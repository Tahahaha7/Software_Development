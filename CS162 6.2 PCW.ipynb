{
 "cells": [
  {
   "cell_type": "markdown",
   "metadata": {},
   "source": [
    "# Google Maps API"
   ]
  },
  {
   "cell_type": "code",
   "execution_count": 54,
   "metadata": {},
   "outputs": [],
   "source": [
    "import googlemaps\n",
    "import pprint\n",
    "from datetime import datetime\n",
    "import json"
   ]
  },
  {
   "cell_type": "code",
   "execution_count": 38,
   "metadata": {},
   "outputs": [],
   "source": [
    "gmaps = googlemaps.Client(key='Enter Your API key')\n",
    "\n",
    "# Geocoding an address\n",
    "# geocode_result = gmaps.geocode('1600 Amphitheatre Parkway, Mountain View, CA')\n",
    "# Look up an address with reverse geocoding\n",
    "# reverse_geocode_result = gmaps.reverse_geocode((40.714224, -73.961452))\n",
    "\n",
    "# Request directions via public transit\n",
    "now = datetime.now()\n",
    "directions_result = gmaps.directions(\"1412 Market Street, San Francisco\",\n",
    "                                     \"Wall Street, New York\",\n",
    "                                     mode=\"transit\",\n",
    "                                     departure_time=now)"
   ]
  },
  {
   "cell_type": "code",
   "execution_count": 71,
   "metadata": {},
   "outputs": [
    {
     "name": "stdout",
     "output_type": "stream",
     "text": [
      "{'northeast': {'lat': 40.7643243, 'lng': -74.00252540000001},\n",
      " 'southwest': {'lat': 33.4273799, 'lng': -122.418001}}\n"
     ]
    }
   ],
   "source": [
    "pprint.pprint(directions_result[0]['bounds'])"
   ]
  },
  {
   "cell_type": "code",
   "execution_count": 67,
   "metadata": {},
   "outputs": [
    {
     "name": "stdout",
     "output_type": "stream",
     "text": [
      "Enter the address you traveling from:\n",
      "1412 Market Street, San Francisco\n",
      "Enter the address you traveling to:\n",
      "Wall Street, New York\n",
      "\n",
      "Traveling from: 1412 Market Street, San Francisco \n",
      "Traveling to:   Wall Street, New York \n",
      "Distance:       3,361 mi \n",
      "Duration:       3 days 6 hours\n"
     ]
    }
   ],
   "source": [
    "traveling_from = input('Enter the address you traveling from:\\n')\n",
    "traveling_to = input('Enter the address you traveling to:\\n')\n",
    "data = gmaps.directions(traveling_from, traveling_to, \n",
    "                 mode=\"transit\", departure_time=now)\n",
    "print('\\nTraveling from:', traveling_from, \n",
    "      '\\nTraveling to:  ', traveling_to,\n",
    "      '\\nDistance:      ', data[0]['legs'][0]['distance']['text'],\n",
    "      '\\nDuration:      ', data[0]['legs'][0]['duration']['text'])"
   ]
  }
 ],
 "metadata": {
  "kernelspec": {
   "display_name": "Python 3",
   "language": "python",
   "name": "python3"
  },
  "language_info": {
   "codemirror_mode": {
    "name": "ipython",
    "version": 3
   },
   "file_extension": ".py",
   "mimetype": "text/x-python",
   "name": "python",
   "nbconvert_exporter": "python",
   "pygments_lexer": "ipython3",
   "version": "3.7.1"
  }
 },
 "nbformat": 4,
 "nbformat_minor": 2
}
